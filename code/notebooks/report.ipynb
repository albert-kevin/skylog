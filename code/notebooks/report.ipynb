{
 "cells": [
  {
   "cell_type": "code",
   "execution_count": 1,
   "id": "b257733b",
   "metadata": {},
   "outputs": [],
   "source": [
    "# # install modules\n",
    "# !pip install pandas xlsxwriter"
   ]
  },
  {
   "cell_type": "code",
   "execution_count": 2,
   "id": "1c09b8c0",
   "metadata": {},
   "outputs": [],
   "source": [
    "# load modules\n",
    "import pandas as pd\n",
    "from datetime import datetime\n",
    "import zipfile\n",
    "import os"
   ]
  },
  {
   "cell_type": "code",
   "execution_count": 3,
   "id": "058d5808",
   "metadata": {},
   "outputs": [],
   "source": [
    "# load file\n",
    "csv_file = '../../data/input.csv'\n",
    "df = pd.read_csv(csv_file, sep=';', encoding='utf-8')\n",
    "df = df.convert_dtypes()\n",
    "# make the names snake_case (remove spaces)\n",
    "df['Persoon'] = df['Persoon'].apply(lambda x: x.replace(' ', '_').lower())\n",
    "# backup copy\n",
    "df.to_csv(\"../../data/bronze/input_backup_\" + datetime.now().strftime(\"%d%b%Y\"), index=False, sep=';', encoding='utf-8')"
   ]
  },
  {
   "cell_type": "code",
   "execution_count": 5,
   "id": "bd429263",
   "metadata": {},
   "outputs": [],
   "source": [
    "# Create a zip file to store the Excel files\n",
    "path = f\"../../data/silver/\"\n",
    "zip_filename = f\"{path}{datetime.now().strftime('%d%b%Y')}_Vluchtlogboeken.zip\"\n",
    "# Group data by person\n",
    "grouped = df.groupby(\"Persoon\")\n",
    "with zipfile.ZipFile(zip_filename, 'w') as zip_file:\n",
    "\n",
    "    # Loop over each person and create a separate Excel file for their data\n",
    "    for name, group in grouped:\n",
    "        xslx_filename = f\"{path}{datetime.now().strftime('%d%b%Y')}__{name}__Vluchtlogboek.xlsx\"\n",
    "        # Remove the \"Persoon\" column from the DataFrame\n",
    "        group = group.drop(columns=[\"Persoon\"])\n",
    "        # Write the person's data to a sheet in the Excel file\n",
    "        with pd.ExcelWriter(xslx_filename, engine='xlsxwriter') as writer:\n",
    "            group.to_excel(writer, index=False, na_rep='NaN', sheet_name=\"Vluchtlogboek\")\n",
    "            # Auto-adjust columns' width\n",
    "            worksheet = writer.sheets[\"Vluchtlogboek\"]\n",
    "            for i, col in enumerate(group.columns):\n",
    "                column_width = max(group[col].astype(str).map(len).max(), len(col)) + 2\n",
    "                worksheet.set_column(i, i, column_width)\n",
    "        # Add the Excel file to the zip file\n",
    "        zip_file.write(xslx_filename)"
   ]
  },
  {
   "cell_type": "code",
   "execution_count": null,
   "id": "1b5e912a",
   "metadata": {},
   "outputs": [],
   "source": []
  }
 ],
 "metadata": {
  "kernelspec": {
   "display_name": "py38_datareport",
   "language": "python",
   "name": "conda-env-py38_datareport-py"
  },
  "language_info": {
   "codemirror_mode": {
    "name": "ipython",
    "version": 3
   },
   "file_extension": ".py",
   "mimetype": "text/x-python",
   "name": "python",
   "nbconvert_exporter": "python",
   "pygments_lexer": "ipython3",
   "version": "3.8.13"
  }
 },
 "nbformat": 4,
 "nbformat_minor": 5
}

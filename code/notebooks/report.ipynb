{
 "cells": [
  {
   "cell_type": "code",
   "execution_count": 1,
   "id": "b257733b",
   "metadata": {},
   "outputs": [],
   "source": [
    "# # install modules\n",
    "# !pip install pandas xlsxwriter"
   ]
  },
  {
   "cell_type": "code",
   "execution_count": 2,
   "id": "1c09b8c0",
   "metadata": {},
   "outputs": [],
   "source": [
    "# load modules\n",
    "import pandas as pd\n",
    "from datetime import datetime\n",
    "import zipfile\n",
    "import os"
   ]
  },
  {
   "cell_type": "code",
   "execution_count": 3,
   "id": "6dfdced2",
   "metadata": {},
   "outputs": [],
   "source": [
    "# load file\n",
    "csv_file = '../../data/input.csv'\n",
    "df = pd.read_csv(csv_file, sep=';', encoding='utf-8')"
   ]
  },
  {
   "cell_type": "code",
   "execution_count": 4,
   "id": "3fe96384",
   "metadata": {},
   "outputs": [],
   "source": [
    "df = df.convert_dtypes()\n",
    "# make the names snake_case (remove spaces)\n",
    "df['Persoon'] = df['Persoon'].apply(lambda x: x.replace(' ', '_'))"
   ]
  },
  {
   "cell_type": "code",
   "execution_count": 5,
   "id": "925a3d18",
   "metadata": {},
   "outputs": [
    {
     "data": {
      "text/html": [
       "<div>\n",
       "<style scoped>\n",
       "    .dataframe tbody tr th:only-of-type {\n",
       "        vertical-align: middle;\n",
       "    }\n",
       "\n",
       "    .dataframe tbody tr th {\n",
       "        vertical-align: top;\n",
       "    }\n",
       "\n",
       "    .dataframe thead th {\n",
       "        text-align: right;\n",
       "    }\n",
       "</style>\n",
       "<table border=\"1\" class=\"dataframe\">\n",
       "  <thead>\n",
       "    <tr style=\"text-align: right;\">\n",
       "      <th></th>\n",
       "      <th>Persoon</th>\n",
       "      <th>Vliegscherm</th>\n",
       "      <th>Vlucht Nr</th>\n",
       "      <th>Datum</th>\n",
       "      <th>Startplaats</th>\n",
       "      <th>Landingsplaats</th>\n",
       "      <th>Hoogteverschil(m)</th>\n",
       "      <th>Vluchtduur</th>\n",
       "      <th>Max Hoogte(m)</th>\n",
       "      <th>Max grondsnelheid(km/u)</th>\n",
       "      <th>Afstand XC(km)</th>\n",
       "      <th>Vluchtinfo</th>\n",
       "    </tr>\n",
       "  </thead>\n",
       "  <tbody>\n",
       "    <tr>\n",
       "      <th>2</th>\n",
       "      <td>Chrisje</td>\n",
       "      <td>Onbekend</td>\n",
       "      <td>1</td>\n",
       "      <td>07/05/2023</td>\n",
       "      <td>Col de la Forclaz (FR, 1265m)</td>\n",
       "      <td>Doussard (FR, 464m)</td>\n",
       "      <td>801</td>\n",
       "      <td>8</td>\n",
       "      <td>1265</td>\n",
       "      <td>20</td>\n",
       "      <td>0</td>\n",
       "      <td>Chrisje heeft een 8-circuit gevolgd en vervolg...</td>\n",
       "    </tr>\n",
       "  </tbody>\n",
       "</table>\n",
       "</div>"
      ],
      "text/plain": [
       "   Persoon Vliegscherm  Vlucht Nr       Datum                    Startplaats   \n",
       "2  Chrisje    Onbekend          1  07/05/2023  Col de la Forclaz (FR, 1265m)  \\\n",
       "\n",
       "        Landingsplaats  Hoogteverschil(m)  Vluchtduur  Max Hoogte(m)   \n",
       "2  Doussard (FR, 464m)                801           8           1265  \\\n",
       "\n",
       "   Max grondsnelheid(km/u)  Afstand XC(km)   \n",
       "2                       20               0  \\\n",
       "\n",
       "                                          Vluchtinfo  \n",
       "2  Chrisje heeft een 8-circuit gevolgd en vervolg...  "
      ]
     },
     "execution_count": 5,
     "metadata": {},
     "output_type": "execute_result"
    }
   ],
   "source": [
    "# show the last record\n",
    "df.tail(1)"
   ]
  },
  {
   "cell_type": "code",
   "execution_count": 6,
   "id": "1c72a628",
   "metadata": {},
   "outputs": [],
   "source": [
    "# Create backup copy\n",
    "backup_date = datetime.now().strftime(\"%d%b%Y\")\n",
    "backup_file = \"../../data/bronze/input_backup_\" + backup_date + \".csv\"\n",
    "df.to_csv(backup_file, index=False, sep=';', encoding='utf-8')"
   ]
  },
  {
   "cell_type": "code",
   "execution_count": 7,
   "id": "55930980",
   "metadata": {},
   "outputs": [],
   "source": [
    "# Create a zip file to store the Excel files and the backup csv\n",
    "path = f\"../../data/silver/\"\n",
    "zip_filename = f\"{path}{datetime.now().strftime('%d%b%Y')}_Vluchtlogboeken.zip\"\n",
    "grouped = df.groupby(\"Persoon\")\n",
    "with zipfile.ZipFile(zip_filename, 'w') as zip_file:\n",
    "\n",
    "    # Loop over each person and create a separate Excel file for their data\n",
    "    for name, group in grouped:\n",
    "        xslx_filename = f\"{path}{name}__{datetime.now().strftime('%d%b%Y')}__Vluchtlogboek.xlsx\"\n",
    "        # Remove the \"Persoon\" column from the DataFrame\n",
    "        group = group.drop(columns=[\"Persoon\"])\n",
    "        # Write the person's data to a sheet in the Excel file\n",
    "        with pd.ExcelWriter(xslx_filename, engine='xlsxwriter') as writer:\n",
    "            group.to_excel(writer, index=False, na_rep='NaN', sheet_name=\"Vluchtlogboek\")\n",
    "            # Auto-adjust columns' width\n",
    "            worksheet = writer.sheets[\"Vluchtlogboek\"]\n",
    "            for i, col in enumerate(group.columns):\n",
    "                column_width = max(group[col].astype(str).map(len).max(), len(col)) + 2\n",
    "                worksheet.set_column(i, i, column_width)\n",
    "        # Add the Excel file to the zip file\n",
    "        zip_file.write(xslx_filename, arcname=os.path.basename(xslx_filename))\n",
    "\n",
    "    # Add the backup CSV to the zip file\n",
    "    zip_file.write(backup_file, arcname=os.path.basename(backup_file))"
   ]
  },
  {
   "cell_type": "code",
   "execution_count": null,
   "id": "d4d03f4e",
   "metadata": {},
   "outputs": [],
   "source": []
  },
  {
   "cell_type": "code",
   "execution_count": null,
   "id": "fb79b4d7",
   "metadata": {},
   "outputs": [],
   "source": []
  },
  {
   "cell_type": "code",
   "execution_count": 8,
   "id": "1b5e912a",
   "metadata": {},
   "outputs": [
    {
     "data": {
      "text/html": [
       "<div>\n",
       "<style scoped>\n",
       "    .dataframe tbody tr th:only-of-type {\n",
       "        vertical-align: middle;\n",
       "    }\n",
       "\n",
       "    .dataframe tbody tr th {\n",
       "        vertical-align: top;\n",
       "    }\n",
       "\n",
       "    .dataframe thead th {\n",
       "        text-align: right;\n",
       "    }\n",
       "</style>\n",
       "<table border=\"1\" class=\"dataframe\">\n",
       "  <thead>\n",
       "    <tr style=\"text-align: right;\">\n",
       "      <th></th>\n",
       "      <th>Persoon</th>\n",
       "      <th>Vliegscherm</th>\n",
       "      <th>Vlucht Nr</th>\n",
       "      <th>Datum</th>\n",
       "      <th>Startplaats</th>\n",
       "      <th>Landingsplaats</th>\n",
       "      <th>Hoogteverschil(m)</th>\n",
       "      <th>Vluchtduur</th>\n",
       "      <th>Max Hoogte(m)</th>\n",
       "      <th>Max grondsnelheid(km/u)</th>\n",
       "      <th>Afstand XC(km)</th>\n",
       "      <th>Vluchtinfo</th>\n",
       "    </tr>\n",
       "  </thead>\n",
       "  <tbody>\n",
       "    <tr>\n",
       "      <th>0</th>\n",
       "      <td>Tom</td>\n",
       "      <td>Sol Primus 5</td>\n",
       "      <td>1</td>\n",
       "      <td>07/05/2023</td>\n",
       "      <td>Col de la Forclaz (FR, 1265m)</td>\n",
       "      <td>Doussard (FR, 464m)</td>\n",
       "      <td>801</td>\n",
       "      <td>11</td>\n",
       "      <td>1265</td>\n",
       "      <td>20</td>\n",
       "      <td>0</td>\n",
       "      <td>Tom heeft de rol geoefend, stampen gedaan en o...</td>\n",
       "    </tr>\n",
       "    <tr>\n",
       "      <th>1</th>\n",
       "      <td>Sylvia</td>\n",
       "      <td>Ozone Soul 12</td>\n",
       "      <td>1</td>\n",
       "      <td>07/05/2023</td>\n",
       "      <td>Col de la Forclaz (FR, 1265m)</td>\n",
       "      <td>Doussard (FR, 464m)</td>\n",
       "      <td>801</td>\n",
       "      <td>15</td>\n",
       "      <td>1265</td>\n",
       "      <td>20</td>\n",
       "      <td>0</td>\n",
       "      <td>De landing was zeer goed en er waren geen opme...</td>\n",
       "    </tr>\n",
       "    <tr>\n",
       "      <th>2</th>\n",
       "      <td>Chrisje</td>\n",
       "      <td>Onbekend</td>\n",
       "      <td>1</td>\n",
       "      <td>07/05/2023</td>\n",
       "      <td>Col de la Forclaz (FR, 1265m)</td>\n",
       "      <td>Doussard (FR, 464m)</td>\n",
       "      <td>801</td>\n",
       "      <td>8</td>\n",
       "      <td>1265</td>\n",
       "      <td>20</td>\n",
       "      <td>0</td>\n",
       "      <td>Chrisje heeft een 8-circuit gevolgd en vervolg...</td>\n",
       "    </tr>\n",
       "  </tbody>\n",
       "</table>\n",
       "</div>"
      ],
      "text/plain": [
       "   Persoon    Vliegscherm  Vlucht Nr       Datum   \n",
       "0      Tom   Sol Primus 5          1  07/05/2023  \\\n",
       "1   Sylvia  Ozone Soul 12          1  07/05/2023   \n",
       "2  Chrisje       Onbekend          1  07/05/2023   \n",
       "\n",
       "                     Startplaats       Landingsplaats  Hoogteverschil(m)   \n",
       "0  Col de la Forclaz (FR, 1265m)  Doussard (FR, 464m)                801  \\\n",
       "1  Col de la Forclaz (FR, 1265m)  Doussard (FR, 464m)                801   \n",
       "2  Col de la Forclaz (FR, 1265m)  Doussard (FR, 464m)                801   \n",
       "\n",
       "   Vluchtduur  Max Hoogte(m)  Max grondsnelheid(km/u)  Afstand XC(km)   \n",
       "0          11           1265                       20               0  \\\n",
       "1          15           1265                       20               0   \n",
       "2           8           1265                       20               0   \n",
       "\n",
       "                                          Vluchtinfo  \n",
       "0  Tom heeft de rol geoefend, stampen gedaan en o...  \n",
       "1  De landing was zeer goed en er waren geen opme...  \n",
       "2  Chrisje heeft een 8-circuit gevolgd en vervolg...  "
      ]
     },
     "execution_count": 8,
     "metadata": {},
     "output_type": "execute_result"
    }
   ],
   "source": [
    "df"
   ]
  },
  {
   "cell_type": "code",
   "execution_count": null,
   "id": "1460fde1",
   "metadata": {},
   "outputs": [],
   "source": []
  }
 ],
 "metadata": {
  "kernelspec": {
   "display_name": "py38_datareport",
   "language": "python",
   "name": "conda-env-py38_datareport-py"
  },
  "language_info": {
   "codemirror_mode": {
    "name": "ipython",
    "version": 3
   },
   "file_extension": ".py",
   "mimetype": "text/x-python",
   "name": "python",
   "nbconvert_exporter": "python",
   "pygments_lexer": "ipython3",
   "version": "3.8.13"
  }
 },
 "nbformat": 4,
 "nbformat_minor": 5
}
